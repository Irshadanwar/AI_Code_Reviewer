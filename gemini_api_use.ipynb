import google.generativeai as genai
import streamlit as st

def configure_model(api_key, sys_prompt):
    """
    Configure the generative AI model with API key and system instructions.
    """
    genai.configure(api_key=api_key)
    model = genai.GenerativeModel(model_name="models/gemini-2.0-flash-exp", system_instruction=sys_prompt)
    return model

def generate_response(model, user_prompt):
    """
    Generate a response from the model based on the user's prompt.
    """
    try:
        response = model.generate_content(user_prompt)
        return response.text
    except Exception as e:
        return f"Error generating response: {str(e)}"

def display_code_reviewer_ui(model):
    """
    Display the Streamlit UI for the AI code reviewer.
    """
    st.title("🔍 AI Code Reviewer")

    code_input = st.text_area("Paste your Python code here:", height=250)
    if st.button("Review Code"):
        if code_input.strip():
            user_prompt = f"Review this Python code and suggest fixes:\n\n{code_input}"
            result = generate_response(model, user_prompt)
            st.markdown(result)
        else:
            st.warning("Please paste some code to review.")

def main():
    """
    Main function to set up the system and run the application.
    """
    # Set your API key here
    api_key = "YOUR_API_KEY_HERE"  # Replace with your actual API key
    
    # Define the system prompt for code review
    sys_prompt = "You are an AI code reviewer. Analyze Python code, find bugs, and suggest fixes."
    
    # Configure the generative model
    model = configure_model(api_key, sys_prompt)
    
    # Display the code review UI
    display_code_reviewer_ui(model)

if __name__ == "__main__":
    main()
